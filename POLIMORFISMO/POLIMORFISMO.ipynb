{
 "cells": [
  {
   "cell_type": "code",
   "execution_count": 1,
   "id": "ddd8c70f",
   "metadata": {},
   "outputs": [
    {
     "name": "stdout",
     "output_type": "stream",
     "text": [
      "Guau\n",
      "Miau\n"
     ]
    }
   ],
   "source": [
    "class Perro:\n",
    "    def hablar(self):\n",
    "        print(\"Guau\")\n",
    "\n",
    "class Gato:\n",
    "    def hablar(self):\n",
    "        print(\"Miau\")\n",
    "\n",
    "def hacer_hablar(animal):\n",
    "    animal.hablar()\n",
    "\n",
    "# Pruebas\n",
    "hacer_hablar(Perro())  # Guau\n",
    "hacer_hablar(Gato())   # Miau\n"
   ]
  },
  {
   "cell_type": "markdown",
   "id": "65c92f49",
   "metadata": {},
   "source": [
    "### Ejemplo de Polimorfismo en Python (POO)\n",
    "\n",
    "Este ejemplo demuestra el concepto de **polimorfismo** en la Programación Orientada a Objetos (POO), usando Python.\n",
    "\n",
    "---\n",
    "\n",
    "### ¿Qué es el Polimorfismo?\n",
    "\n",
    "El **polimorfismo** permite que múltiples clases tengan métodos con el mismo nombre, pero que ejecuten comportamientos distintos.  \n",
    "Es decir:\n",
    "\n",
    "> \"Una misma interfaz, múltiples implementaciones.\"\n",
    "\n",
    "---\n",
    "\n",
    "### Descripción del Código\n",
    "\n",
    "- La clase `Perro` tiene un método `hablar()` que imprime `\"Guau\"`.\n",
    "- La clase `Gato` tiene un método `hablar()` que imprime `\"Miau\"`.\n",
    "- La función `hacer_hablar()` puede recibir cualquier objeto que tenga un método `hablar()`, sin importar su clase.\n",
    "\n",
    "Esto es posible gracias a una característica de Python llamada **Duck Typing**:\n",
    "> \"Si camina como un pato y suena como un pato, entonces es un pato.\"\n",
    "\n",
    "---\n",
    "\n",
    "### Salida esperada\n",
    "\n",
    "```bash\n",
    "Guau\n",
    "Miau\n"
   ]
  }
 ],
 "metadata": {
  "kernelspec": {
   "display_name": "Python 3",
   "language": "python",
   "name": "python3"
  },
  "language_info": {
   "codemirror_mode": {
    "name": "ipython",
    "version": 3
   },
   "file_extension": ".py",
   "mimetype": "text/x-python",
   "name": "python",
   "nbconvert_exporter": "python",
   "pygments_lexer": "ipython3",
   "version": "3.13.3"
  }
 },
 "nbformat": 4,
 "nbformat_minor": 5
}
