{
 "cells": [
  {
   "cell_type": "code",
   "execution_count": 3,
   "id": "d7e9ec93",
   "metadata": {},
   "outputs": [
    {
     "name": "stdout",
     "output_type": "stream",
     "text": [
      "--- Información de Vehículos ---\n",
      "Automóvil: Toyota Corolla, Puertas: 4\n",
      "Motocicleta: Honda CBR500R, Cilindrada: 500cc\n",
      "\n",
      "--- Acciones de Vehículos ---\n",
      "Toyota Corolla está acelerando.\n",
      "Honda CBR500R está frenando.\n",
      "Toyota Corolla está frenando.\n"
     ]
    }
   ],
   "source": [
    "class Vehiculo:\n",
    "    def __init__(self, marca, modelo):\n",
    "        self.marca = marca\n",
    "        self.modelo = modelo\n",
    "\n",
    "    def acelerar(self):\n",
    "        print(f\"{self.marca} {self.modelo} está acelerando.\")\n",
    "\n",
    "\n",
    "    def frenar(self):\n",
    "        print(f\"{self.marca} {self.modelo} está frenando.\")\n",
    "\n",
    "class Automovil(Vehiculo):\n",
    "    def __init__(self, marca, modelo, puertas):\n",
    "        super().__init__(marca, modelo)\n",
    "        self.puertas = puertas\n",
    "\n",
    "    def info(self):\n",
    "        print(f\"Automóvil: {self.marca} {self.modelo}, Puertas: {self.puertas}\")\n",
    "\n",
    "class Motocicleta(Vehiculo):\n",
    "    def __init__(self, marca, modelo, cilindrada):\n",
    "        super().__init__(marca, modelo)\n",
    "        self.cilindrada = cilindrada\n",
    "\n",
    "    def info(self):\n",
    "        print(f\"Motocicleta: {self.marca} {self.modelo}, Cilindrada: {self.cilindrada}cc\")\n",
    "    \n",
    "    # Creando instancias de las clases\n",
    "mi_auto = Automovil(\"Toyota\", \"Corolla\", 4)\n",
    "mi_moto = Motocicleta(\"Honda\", \"CBR500R\", 500)\n",
    "\n",
    "print(\"--- Información de Vehículos ---\")\n",
    "mi_auto.info()\n",
    "mi_moto.info()\n",
    "\n",
    "print(\"\\n--- Acciones de Vehículos ---\")\n",
    "mi_auto.acelerar()\n",
    "mi_moto.frenar()\n",
    "mi_auto.frenar()"
   ]
  },
  {
   "cell_type": "markdown",
   "id": "993f45e1",
   "metadata": {},
   "source": [
    "## Explicación del Código\n",
    "Analicemos las partes clave para entender la herencia:\n",
    "\n",
    "- ```class Vehiculo:``` **(Clase Padre / Superclase)**\n",
    "\n",
    "    - Esta es la **clase base** o **clase padre.** Define las características y comportamientos generales que cualquier vehículo tendría.\n",
    "\n",
    "    - ```__init__(self, marca, modelo):``` El constructor inicializa los atributos marca y modelo, que son comunes a todos los vehículos.\n",
    "\n",
    "    - ```acelerar(self)``` y ```frenar(self):``` Estos son métodos comunes que cualquier vehículo puede realizar.\n",
    "\n",
    "- ``class Automovil(Vehiculo):`` **(Clase Hija / Subclase)**\n",
    "\n",
    "    - Esta es una clase hija que hereda de Vehiculo. El (Vehiculo) después del nombre de la clase indica la herencia.\n",
    "\n",
    "    - ``__init__(self, marca, modelo, puertas):`` Su constructor llama a ``super().__init__(marca, modelo)`` para inicializar los atributos de la clase padre (marca y modelo). Luego, inicializa su propio atributo específico, puertas.\n",
    "\n",
    "    - info(self): Este método es específico de la clase Automovil. Muestra información detallada que incluye tanto los atributos heredados como los propios.\n",
    "\n",
    "- ``class Motocicleta(Vehiculo):`` **(Clase Hija / Subclase)**\n",
    "\n",
    "    - Esta es otra clase hija que también hereda de Vehiculo.\n",
    "\n",
    "    - ``__init__(self, marca, modelo, cilindrada):`` Similar a Automovil, llama a ``super().__init__(marca, modelo)`` e inicializa su atributo específico, cilindrada.\n",
    "\n",
    "    - ``info(self):`` Este método es específico de la clase Motocicleta, mostrando información relevante para una moto\n"
   ]
  }
 ],
 "metadata": {
  "kernelspec": {
   "display_name": "Python 3",
   "language": "python",
   "name": "python3"
  },
  "language_info": {
   "codemirror_mode": {
    "name": "ipython",
    "version": 3
   },
   "file_extension": ".py",
   "mimetype": "text/x-python",
   "name": "python",
   "nbconvert_exporter": "python",
   "pygments_lexer": "ipython3",
   "version": "3.12.4"
  }
 },
 "nbformat": 4,
 "nbformat_minor": 5
}
