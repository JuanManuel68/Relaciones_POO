{
 "cells": [
  {
   "cell_type": "code",
   "execution_count": 1,
   "id": "e9f9358b",
   "metadata": {},
   "outputs": [
    {
     "name": "stdout",
     "output_type": "stream",
     "text": [
      "Departamento: Tecnología\n",
      "  - Juan\n",
      "  - María\n",
      "\n",
      "Departamento: Recursos Humanos\n",
      "  No hay empleados.\n",
      "\n",
      "Empleado sin departamento:\n",
      "Empleado: Ana\n"
     ]
    }
   ],
   "source": [
    "class Empleado:\n",
    "    def __init__(self, nombre):\n",
    "        self.nombre = nombre\n",
    "\n",
    "    def mostrar(self):\n",
    "        print(f\"Empleado: {self.nombre}\")\n",
    "\n",
    "class Departamento:\n",
    "    def __init__(self, nombre):\n",
    "        self.nombre = nombre\n",
    "        self.empleados = []  \n",
    "\n",
    "    def agregar_empleado(self, empleado):\n",
    "        self.empleados.append(empleado)\n",
    "\n",
    "    def mostrar_empleados(self):\n",
    "        print(f\"Departamento: {self.nombre}\")\n",
    "        if not self.empleados:\n",
    "            print(\"  No hay empleados.\")\n",
    "        for e in self.empleados:\n",
    "            print(f\"  - {e.nombre}\")\n",
    "\n",
    "juan = Empleado(\"Juan\")\n",
    "maria = Empleado(\"María\")\n",
    "ana = Empleado(\"Ana\")\n",
    "\n",
    "dep_ti = Departamento(\"Tecnología\")\n",
    "dep_ti.agregar_empleado(juan)\n",
    "dep_ti.agregar_empleado(maria)\n",
    "\n",
    "dep_rrhh = Departamento(\"Recursos Humanos\")\n",
    "\n",
    "dep_ti.mostrar_empleados()\n",
    "print()\n",
    "dep_rrhh.mostrar_empleados()\n",
    "\n",
    "print()\n",
    "print(\"Empleado sin departamento:\")\n",
    "ana.mostrar()\n"
   ]
  },
  {
   "cell_type": "markdown",
   "id": "ed288f53",
   "metadata": {},
   "source": [
    "## 🧠 Explicación del Código\n",
    "\n",
    "### 💎 Agregación – `Departamento o-- Empleado`\n",
    "\n",
    "- Se definen dos clases: `Empleado` y `Departamento`.  \n",
    "  La clase `Empleado` representa a una persona que trabaja en una empresa, y puede existir **por sí sola**, sin necesidad de estar asociada a ningún departamento.\n",
    "\n",
    "- La clase `Departamento` tiene un atributo `empleados`, que es una lista donde se pueden agregar objetos de tipo `Empleado`.  \n",
    "  Esto representa una relación donde el departamento **contiene** empleados, pero **no es dueño de ellos**.\n",
    "\n",
    "- Esta relación se clasifica como **agregación**, ya que:\n",
    "  - Los objetos `Empleado` pueden existir **independientemente** de la existencia del `Departamento`.\n",
    "  - Si se elimina el `Departamento`, los empleados **no desaparecen**.\n",
    "  - No hay una dependencia vital entre las clases.\n",
    "\n",
    "- El método `agregar_empleado` permite asociar empleados a un departamento.  \n",
    "  El método `mostrar_empleados` imprime la lista de empleados del departamento.\n",
    "\n",
    "- En la ejecución del código:\n",
    "  - Se crean tres empleados (`Juan`, `María`, y `Ana`).\n",
    "  - Se asocian dos de ellos a un departamento (`Tecnología`), y se deja a `Ana` sin departamento.\n",
    "  - Se demuestra que un empleado puede existir sin estar en la lista de ningún departamento, confirmando la naturaleza **débil** de la relación.\n",
    "\n",
    "---"
   ]
  }
 ],
 "metadata": {
  "kernelspec": {
   "display_name": "Python 3",
   "language": "python",
   "name": "python3"
  },
  "language_info": {
   "codemirror_mode": {
    "name": "ipython",
    "version": 3
   },
   "file_extension": ".py",
   "mimetype": "text/x-python",
   "name": "python",
   "nbconvert_exporter": "python",
   "pygments_lexer": "ipython3",
   "version": "3.13.3"
  }
 },
 "nbformat": 4,
 "nbformat_minor": 5
}
