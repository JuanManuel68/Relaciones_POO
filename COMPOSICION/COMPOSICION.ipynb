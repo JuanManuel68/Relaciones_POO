{
 "cells": [
  {
   "cell_type": "code",
   "execution_count": 1,
   "id": "03486ea3",
   "metadata": {},
   "outputs": [
    {
     "name": "stdout",
     "output_type": "stream",
     "text": [
      "Encendiendo computadora...\n",
      "Mostrando imagen en pantalla\n"
     ]
    }
   ],
   "source": [
    "class Pantalla:\n",
    "    def mostrar(self):\n",
    "        print(\"Mostrando imagen en pantalla\")\n",
    "\n",
    "class Computadora:\n",
    "    def __init__(self):\n",
    "        self.pantalla = Pantalla()\n",
    "\n",
    "    def encender(self):\n",
    "        print(\"Encendiendo computadora...\")\n",
    "        self.pantalla.mostrar()\n",
    "\n",
    "# Ejecución\n",
    "pc = Computadora()\n",
    "pc.encender()\n"
   ]
  },
  {
   "cell_type": "markdown",
   "id": "47357460",
   "metadata": {},
   "source": [
    "### Ejemplo Sencillo de Composición en Python\n",
    "\n",
    "Este ejemplo demuestra el uso del **paradigma de composición** en la Programación Orientada a Objetos (POO), usando una relación entre una `Computadora` y una `Pantalla`.\n",
    "\n",
    "---\n",
    "\n",
    "### ¿Qué es Composición?\n",
    "\n",
    "La **composición** es un principio de diseño en el que una clase contiene instancias de otras clases como atributos. Esto se describe como una relación de tipo:\n",
    "\n",
    "> \"Una clase **tiene un** objeto de otra clase\"\n",
    "\n",
    "---\n",
    "\n",
    "### Descripción del Código\n",
    "\n",
    "- `Pantalla` es una clase independiente con un método `mostrar()`.\n",
    "- `Computadora` **contiene** una instancia de `Pantalla` como atributo.\n",
    "- Al llamar al método `encender()` en la clase `Computadora`, internamente se llama a `mostrar()` de su `Pantalla`.\n",
    "\n",
    "---\n",
    "\n",
    "### Salida esperada\n",
    "\n",
    "```bash\n",
    "Encendiendo computadora...\n",
    "Mostrando imagen en pantalla\n"
   ]
  }
 ],
 "metadata": {
  "kernelspec": {
   "display_name": "Python 3",
   "language": "python",
   "name": "python3"
  },
  "language_info": {
   "codemirror_mode": {
    "name": "ipython",
    "version": 3
   },
   "file_extension": ".py",
   "mimetype": "text/x-python",
   "name": "python",
   "nbconvert_exporter": "python",
   "pygments_lexer": "ipython3",
   "version": "3.13.3"
  }
 },
 "nbformat": 4,
 "nbformat_minor": 5
}
