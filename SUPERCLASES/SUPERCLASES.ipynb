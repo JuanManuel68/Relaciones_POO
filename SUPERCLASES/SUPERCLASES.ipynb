{
 "cells": [
  {
   "cell_type": "code",
   "execution_count": 1,
   "id": "bab42493",
   "metadata": {},
   "outputs": [
    {
     "name": "stdout",
     "output_type": "stream",
     "text": [
      "Criatura hace un sonido\n",
      "Pelusa dice Miau\n"
     ]
    }
   ],
   "source": [
    "class Animal:\n",
    "    def __init__(self, nombre):\n",
    "        self.nombre = nombre\n",
    "\n",
    "    def hablar(self):\n",
    "        print(f\"{self.nombre} hace un sonido\")\n",
    "\n",
    "class Gato(Animal):\n",
    "    def hablar(self):\n",
    "        print(f\"{self.nombre} dice Miau\")\n",
    "\n",
    "# Uso\n",
    "animal = Animal(\"Criatura\")\n",
    "animal.hablar()  # Criatura hace un sonido\n",
    "\n",
    "gato = Gato(\"Pelusa\")\n",
    "gato.hablar()    # Pelusa dice Miau"
   ]
  },
  {
   "cell_type": "markdown",
   "id": "70ad9b6d",
   "metadata": {},
   "source": [
    "#### Ejemplo de Superclase en Python\n",
    "\n",
    "Este ejemplo demuestra cómo usar una **superclase** (`Animal`) para definir comportamiento común, que luego es extendido por una subclase (`Gato`).\n",
    "\n",
    "---\n",
    "\n",
    "#### ¿Qué es una Superclase?\n",
    "\n",
    "Una **superclase** es una clase genérica de la cual otras clases heredan atributos y métodos. Define comportamientos comunes para sus subclases.\n",
    "\n",
    "---\n",
    "\n",
    "#### ¿Cómo funciona?\n",
    "\n",
    "- La clase `Animal` define un atributo `nombre` y un método `hablar()`.\n",
    "- La clase `Gato` hereda de `Animal` y sobrescribe el método `hablar()` para personalizarlo.\n",
    "\n",
    "---\n",
    "\n",
    "#### Resultado esperado\n",
    "\n",
    "```bash\n",
    "Criatura hace un sonido\n",
    "Pelusa dice Miau\n"
   ]
  }
 ],
 "metadata": {
  "kernelspec": {
   "display_name": "Python 3",
   "language": "python",
   "name": "python3"
  },
  "language_info": {
   "codemirror_mode": {
    "name": "ipython",
    "version": 3
   },
   "file_extension": ".py",
   "mimetype": "text/x-python",
   "name": "python",
   "nbconvert_exporter": "python",
   "pygments_lexer": "ipython3",
   "version": "3.13.3"
  }
 },
 "nbformat": 4,
 "nbformat_minor": 5
}
